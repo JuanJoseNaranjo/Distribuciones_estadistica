{
 "cells": [
  {
   "cell_type": "markdown",
   "metadata": {},
   "source": [
    "La base de datos asignada a su grupo contiene la información de un nicho de mercado donde se midieron varias variables para posteriores análisis a 200 empresas, de esa base se tomó la medición de la inversión que hizo cada empresa a marketing digital el último mes y sus respectivas ventas en pesos colombianos.\n",
    "\n",
    "1. Construir un IC para al 95% de confianza necesario para responder: ¿Puede afirmarse que la inversión en Marketing es superior a los cuatro millones de pesos colombianos? Justifique su respuesta.\n",
    "\n",
    "2. ¿Se puede afirmar que las ventas medias de las empresas encuestadas son superiores a su inversión en marketing en más de dos millones de pesos colombianos? Justifique su respuesta mediante una prueba de hipótesis con una significancia del 6%.\n",
    "\n",
    "3. Analice si hay una relación lineal entre las variables inversión en Marketing y ventas, mediante una regresión lineal con todos sus repecivos componentes."
   ]
  },
  {
   "cell_type": "code",
   "execution_count": 1,
   "metadata": {},
   "outputs": [
    {
     "name": "stderr",
     "output_type": "stream",
     "text": [
      "c:\\Users\\Usuario\\anaconda3\\lib\\site-packages\\pandas\\core\\computation\\expressions.py:21: UserWarning: Pandas requires version '2.8.4' or newer of 'numexpr' (version '2.8.3' currently installed).\n",
      "  from pandas.core.computation.check import NUMEXPR_INSTALLED\n",
      "c:\\Users\\Usuario\\anaconda3\\lib\\site-packages\\pandas\\core\\arrays\\masked.py:60: UserWarning: Pandas requires version '1.3.6' or newer of 'bottleneck' (version '1.3.5' currently installed).\n",
      "  from pandas.core import (\n"
     ]
    }
   ],
   "source": [
    "import pandas as pd"
   ]
  },
  {
   "cell_type": "code",
   "execution_count": 8,
   "metadata": {},
   "outputs": [
    {
     "data": {
      "text/html": [
       "<div>\n",
       "<style scoped>\n",
       "    .dataframe tbody tr th:only-of-type {\n",
       "        vertical-align: middle;\n",
       "    }\n",
       "\n",
       "    .dataframe tbody tr th {\n",
       "        vertical-align: top;\n",
       "    }\n",
       "\n",
       "    .dataframe thead th {\n",
       "        text-align: right;\n",
       "    }\n",
       "</style>\n",
       "<table border=\"1\" class=\"dataframe\">\n",
       "  <thead>\n",
       "    <tr style=\"text-align: right;\">\n",
       "      <th></th>\n",
       "      <th>Empresa</th>\n",
       "      <th>Inversión en marketing digital</th>\n",
       "      <th>Venta</th>\n",
       "    </tr>\n",
       "  </thead>\n",
       "  <tbody>\n",
       "    <tr>\n",
       "      <th>0</th>\n",
       "      <td>1</td>\n",
       "      <td>2008148</td>\n",
       "      <td>50225258.80</td>\n",
       "    </tr>\n",
       "    <tr>\n",
       "      <th>1</th>\n",
       "      <td>2</td>\n",
       "      <td>2041273</td>\n",
       "      <td>45103182.50</td>\n",
       "    </tr>\n",
       "    <tr>\n",
       "      <th>2</th>\n",
       "      <td>3</td>\n",
       "      <td>2057234</td>\n",
       "      <td>45143085.00</td>\n",
       "    </tr>\n",
       "    <tr>\n",
       "      <th>3</th>\n",
       "      <td>4</td>\n",
       "      <td>2067740</td>\n",
       "      <td>45169350.00</td>\n",
       "    </tr>\n",
       "    <tr>\n",
       "      <th>4</th>\n",
       "      <td>5</td>\n",
       "      <td>2145127</td>\n",
       "      <td>58773569.43</td>\n",
       "    </tr>\n",
       "    <tr>\n",
       "      <th>...</th>\n",
       "      <td>...</td>\n",
       "      <td>...</td>\n",
       "      <td>...</td>\n",
       "    </tr>\n",
       "    <tr>\n",
       "      <th>195</th>\n",
       "      <td>196</td>\n",
       "      <td>6977006</td>\n",
       "      <td>66977011.10</td>\n",
       "    </tr>\n",
       "    <tr>\n",
       "      <th>196</th>\n",
       "      <td>197</td>\n",
       "      <td>7005563</td>\n",
       "      <td>90445616.60</td>\n",
       "    </tr>\n",
       "    <tr>\n",
       "      <th>197</th>\n",
       "      <td>198</td>\n",
       "      <td>7065010</td>\n",
       "      <td>76803062.00</td>\n",
       "    </tr>\n",
       "    <tr>\n",
       "      <th>198</th>\n",
       "      <td>199</td>\n",
       "      <td>7080760</td>\n",
       "      <td>77080765.10</td>\n",
       "    </tr>\n",
       "    <tr>\n",
       "      <th>199</th>\n",
       "      <td>200</td>\n",
       "      <td>7082447</td>\n",
       "      <td>88369947.90</td>\n",
       "    </tr>\n",
       "  </tbody>\n",
       "</table>\n",
       "<p>200 rows × 3 columns</p>\n",
       "</div>"
      ],
      "text/plain": [
       "     Empresa  Inversión en marketing digital        Venta\n",
       "0          1                         2008148  50225258.80\n",
       "1          2                         2041273  45103182.50\n",
       "2          3                         2057234  45143085.00\n",
       "3          4                         2067740  45169350.00\n",
       "4          5                         2145127  58773569.43\n",
       "..       ...                             ...          ...\n",
       "195      196                         6977006  66977011.10\n",
       "196      197                         7005563  90445616.60\n",
       "197      198                         7065010  76803062.00\n",
       "198      199                         7080760  77080765.10\n",
       "199      200                         7082447  88369947.90\n",
       "\n",
       "[200 rows x 3 columns]"
      ]
     },
     "execution_count": 8,
     "metadata": {},
     "output_type": "execute_result"
    }
   ],
   "source": [
    "DatosMd = pd.read_csv(\"https://raw.githubusercontent.com/JuanJoseNaranjo/Distribuciones_estadistica/main/DatosTrabajo2EAE20242.csv\", sep=';')\n",
    "DatosMd"
   ]
  }
 ],
 "metadata": {
  "kernelspec": {
   "display_name": "base",
   "language": "python",
   "name": "python3"
  },
  "language_info": {
   "codemirror_mode": {
    "name": "ipython",
    "version": 3
   },
   "file_extension": ".py",
   "mimetype": "text/x-python",
   "name": "python",
   "nbconvert_exporter": "python",
   "pygments_lexer": "ipython3",
   "version": "3.9.13"
  }
 },
 "nbformat": 4,
 "nbformat_minor": 2
}
