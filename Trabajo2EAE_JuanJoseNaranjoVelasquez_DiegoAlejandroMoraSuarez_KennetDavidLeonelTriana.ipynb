{
 "cells": [
  {
   "cell_type": "markdown",
   "metadata": {},
   "source": [
    "  Buenas noches, les adjunto su segundo trabajo del curso de Estadística y Análisis Exploratorio, por favor seguir las instrucciones de solución dadas en el texto y además les recuerdo que tienen plazo para entregar hasta el día viernes 20 de septiembre 6:00pm como un archivo en pdf que debe incluir los planteamientos simbólicos de las preguntas y los códigos en Python utilizados, el archivo se debe llamar Trabajo2EAE_nombreintregrante1_nombreintegrante2_nombreintegrante3 y debe ser enviado como respuesta directa a este correo."
   ]
  },
  {
   "cell_type": "markdown",
   "metadata": {},
   "source": [
    "La base de datos asignada a su grupo contiene la información de un nicho de mercado donde se midieron varias variables para posteriores análisis a 200 empresas, de esa base se tomó la medición de la inversión que hizo cada empresa a marketing digital el último mes y sus respectivas ventas en pesos colombianos.\n",
    "\n",
    "1. Construir un IC para al 95% de confianza necesario para responder: ¿Puede afirmarse que la inversión en Marketing es superior a los cuatro millones de pesos colombianos? Justifique su respuesta.\n",
    "\n",
    "2. ¿Se puede afirmar que las ventas medias de las empresas encuestadas son superiores a su inversión en marketing en más de dos millones de pesos colombianos? Justifique su respuesta mediante una prueba de hipótesis con una significancia del 6%.\n",
    "\n",
    "3. Analice si hay una relación lineal entre las variables inversión en Marketing y ventas, mediante una regresión lineal con todos sus repecivos componentes."
   ]
  },
  {
   "cell_type": "code",
   "execution_count": 23,
   "metadata": {},
   "outputs": [],
   "source": [
    "import pandas as pd\n",
    "from scipy.stats import t, norm, shapiro, chi2\n",
    "import matplotlib.pyplot as plt\n",
    "import seaborn as sns\n",
    "import numpy as np\n",
    "import statsmodels.api as sm"
   ]
  },
  {
   "cell_type": "code",
   "execution_count": 24,
   "metadata": {},
   "outputs": [
    {
     "data": {
      "text/html": [
       "<div>\n",
       "<style scoped>\n",
       "    .dataframe tbody tr th:only-of-type {\n",
       "        vertical-align: middle;\n",
       "    }\n",
       "\n",
       "    .dataframe tbody tr th {\n",
       "        vertical-align: top;\n",
       "    }\n",
       "\n",
       "    .dataframe thead th {\n",
       "        text-align: right;\n",
       "    }\n",
       "</style>\n",
       "<table border=\"1\" class=\"dataframe\">\n",
       "  <thead>\n",
       "    <tr style=\"text-align: right;\">\n",
       "      <th></th>\n",
       "      <th>Empresa</th>\n",
       "      <th>Inversión en marketing digital</th>\n",
       "      <th>Venta</th>\n",
       "    </tr>\n",
       "  </thead>\n",
       "  <tbody>\n",
       "    <tr>\n",
       "      <th>0</th>\n",
       "      <td>1</td>\n",
       "      <td>2008148</td>\n",
       "      <td>50225258.80</td>\n",
       "    </tr>\n",
       "    <tr>\n",
       "      <th>1</th>\n",
       "      <td>2</td>\n",
       "      <td>2041273</td>\n",
       "      <td>45103182.50</td>\n",
       "    </tr>\n",
       "    <tr>\n",
       "      <th>2</th>\n",
       "      <td>3</td>\n",
       "      <td>2057234</td>\n",
       "      <td>45143085.00</td>\n",
       "    </tr>\n",
       "    <tr>\n",
       "      <th>3</th>\n",
       "      <td>4</td>\n",
       "      <td>2067740</td>\n",
       "      <td>45169350.00</td>\n",
       "    </tr>\n",
       "    <tr>\n",
       "      <th>4</th>\n",
       "      <td>5</td>\n",
       "      <td>2145127</td>\n",
       "      <td>58773569.43</td>\n",
       "    </tr>\n",
       "    <tr>\n",
       "      <th>...</th>\n",
       "      <td>...</td>\n",
       "      <td>...</td>\n",
       "      <td>...</td>\n",
       "    </tr>\n",
       "    <tr>\n",
       "      <th>195</th>\n",
       "      <td>196</td>\n",
       "      <td>6977006</td>\n",
       "      <td>66977011.10</td>\n",
       "    </tr>\n",
       "    <tr>\n",
       "      <th>196</th>\n",
       "      <td>197</td>\n",
       "      <td>7005563</td>\n",
       "      <td>90445616.60</td>\n",
       "    </tr>\n",
       "    <tr>\n",
       "      <th>197</th>\n",
       "      <td>198</td>\n",
       "      <td>7065010</td>\n",
       "      <td>76803062.00</td>\n",
       "    </tr>\n",
       "    <tr>\n",
       "      <th>198</th>\n",
       "      <td>199</td>\n",
       "      <td>7080760</td>\n",
       "      <td>77080765.10</td>\n",
       "    </tr>\n",
       "    <tr>\n",
       "      <th>199</th>\n",
       "      <td>200</td>\n",
       "      <td>7082447</td>\n",
       "      <td>88369947.90</td>\n",
       "    </tr>\n",
       "  </tbody>\n",
       "</table>\n",
       "<p>200 rows × 3 columns</p>\n",
       "</div>"
      ],
      "text/plain": [
       "     Empresa  Inversión en marketing digital        Venta\n",
       "0          1                         2008148  50225258.80\n",
       "1          2                         2041273  45103182.50\n",
       "2          3                         2057234  45143085.00\n",
       "3          4                         2067740  45169350.00\n",
       "4          5                         2145127  58773569.43\n",
       "..       ...                             ...          ...\n",
       "195      196                         6977006  66977011.10\n",
       "196      197                         7005563  90445616.60\n",
       "197      198                         7065010  76803062.00\n",
       "198      199                         7080760  77080765.10\n",
       "199      200                         7082447  88369947.90\n",
       "\n",
       "[200 rows x 3 columns]"
      ]
     },
     "execution_count": 24,
     "metadata": {},
     "output_type": "execute_result"
    }
   ],
   "source": [
    "DatosMd = pd.read_csv(\"https://raw.githubusercontent.com/JuanJoseNaranjo/Distribuciones_estadistica/main/DatosTrabajo2EAE20242.csv\", sep=';')\n",
    "DatosMd"
   ]
  },
  {
   "cell_type": "markdown",
   "metadata": {},
   "source": [
    "1. Construir un IC para al 95% de confianza necesario para responder:\n",
    "\n",
    "¿Puede afirmarse que la inversión en Marketing es superior a los cuatro millones de pesos colombianos? Justifique su respuesta."
   ]
  },
  {
   "cell_type": "code",
   "execution_count": 25,
   "metadata": {},
   "outputs": [
    {
     "data": {
      "image/png": "[encoded data removed]",
      "text/plain": [
       "<Figure size 1000x600 with 1 Axes>"
      ]
     },
     "metadata": {},
     "output_type": "display_data"
    }
   ],
   "source": [
    "# Construcción intervalo de confianza\n",
    "# Miremos como se comporta la inversión en marketing digital\n",
    "\n",
    "# Gráfica de distribución\n",
    "columna_inversiones = 'Inversión en marketing digital'  \n",
    "plt.figure(figsize=(10,6))\n",
    "sns.histplot(DatosMd[columna_inversiones], bins=30, kde=True, color='skyblue')\n",
    "plt.axvline(DatosMd[columna_inversiones].mean(), color='red', linestyle='--', label=f'{DatosMd[columna_inversiones].mean()} COP')\n",
    "plt.title('Distribución de Inversiones en Marketing Digital')\n",
    "plt.xlabel('Inversiones en COP')\n",
    "plt.ylabel('Frecuencia')\n",
    "plt.legend()\n",
    "plt.show()"
   ]
  },
  {
   "cell_type": "code",
   "execution_count": 26,
   "metadata": {},
   "outputs": [
    {
     "data": {
      "text/plain": [
       "ShapiroResult(statistic=0.9768123256116342, pvalue=0.0021485292350816422)"
      ]
     },
     "execution_count": 26,
     "metadata": {},
     "output_type": "execute_result"
    }
   ],
   "source": [
    "# De la gráfica anterior vemos que las inversiones se asemejan a una distribución normal, para validar esto usaremos \n",
    "# una prueba de bondad de ajuste Shapiro-Wilks \n",
    "\n",
    "# H0: las inversiones tiene distribución normal(miu, sigma**2)\n",
    "# H1: las inversiones no tiene distribución normal(miu, sigma**2)\n",
    "\n",
    "shapiro(DatosMd[columna_inversiones])"
   ]
  },
  {
   "cell_type": "code",
   "execution_count": 27,
   "metadata": {},
   "outputs": [
    {
     "name": "stdout",
     "output_type": "stream",
     "text": [
      "Rechazamos la hipótesis nula: Las variable inversión no se distribuye de forma normal con un 0.95 de confianza\n"
     ]
    }
   ],
   "source": [
    "# Del test encontramos que el valor p tiene un valor de 0.002148, y tenemos un alpha de 0.05. por ende Vp < α y se rechaza H0 a favor de la alterna\n",
    "\n",
    "valorP = shapiro(DatosMd[columna_inversiones])[1]\n",
    "alpha = 0.05\n",
    "#Teniendo en cuenta que el valor de alpha es  0.05\n",
    "if valorP < alpha: \n",
    "    print(\"Rechazamos la hipótesis nula: Las variable inversión no se distribuye de forma normal con un 0.95 de confianza\")\n"
   ]
  },
  {
   "cell_type": "markdown",
   "metadata": {},
   "source": [
    "Dado que n = 200, osea n >= 30 y por la prueba de Shapiro la variable no se distribuye de forma normal, concluimos que calculamos el intervalo de confianza como:\n",
    "\n",
    "media muestral+/-z(alpha/2)*desviación estandar/raiz(n)"
   ]
  },
  {
   "cell_type": "code",
   "execution_count": 28,
   "metadata": {},
   "outputs": [
    {
     "name": "stdout",
     "output_type": "stream",
     "text": [
      "La media muestral de las inversiones en marketing digital es 4459370.2700\n",
      "La desviación muestral de las inversiones en marketing digital es 1304053.6104\n",
      "el intervalo de confianza se encuentra entre (4278640.9814, 4640099.5586)\n"
     ]
    }
   ],
   "source": [
    "n = len(DatosMd)\n",
    "\n",
    "# hallamos la media y varianza de la variable:\n",
    "\n",
    "media_md = DatosMd[columna_inversiones].mean()\n",
    "std_md = DatosMd[columna_inversiones].std()\n",
    "print(f\"La media muestral de las inversiones en marketing digital es {media_md:.4f}\")\n",
    "print(f\"La desviación muestral de las inversiones en marketing digital es {std_md:.4f}\")\n",
    "\n",
    "# Hallamos Z alpha/2 con un 95% de confianza\n",
    "z_alpha2 = norm.ppf(1 - 0.05/2)\n",
    "\n",
    "lim_sup = media_md+z_alpha2*std_md/np.sqrt(n)\n",
    "lim_inf = media_md-z_alpha2*std_md/np.sqrt(n)\n",
    "print(f\"el intervalo de confianza se encuentra entre ({lim_inf:.4f}, {lim_sup:.4f})\")"
   ]
  },
  {
   "cell_type": "markdown",
   "metadata": {},
   "source": [
    " En base a la observación de las 200 empresas de inversión en marketing digital, la media muestral, desviación muestral y el intervalo\n",
    " de confianza, se puede concluir que la media de inversión de marketing es superior a cuatro millones de pesos colombianos dado que \n",
    " la media varía en un intervalo de (4_278_640.9814 COP, 4_640_099.5586 COP) para un 95% de confianza."
   ]
  },
  {
   "cell_type": "markdown",
   "metadata": {},
   "source": [
    "2. ¿Se puede afirmar que las ventas medias de las empresas encuestadas son superiores a su inversión en marketing\n",
    "en más de dos millones de pesos colombianos? Justifique su respuesta mediante una prueba de hipótesis con una\n",
    "significancia del 6%."
   ]
  },
  {
   "cell_type": "code",
   "execution_count": 29,
   "metadata": {},
   "outputs": [
    {
     "data": {
      "text/plain": [
       "ShapiroResult(statistic=0.9694677235439646, pvalue=0.00024277889714315198)"
      ]
     },
     "execution_count": 29,
     "metadata": {},
     "output_type": "execute_result"
    }
   ],
   "source": [
    "# Para determinar si las variables de distribuyen de una forma normal realizamos prueba de bondad de ajuste Shapiro-Wilks\n",
    "# Dado que ya se determinó en el punto anterior que la variable inversión no se comporta de esa forma, realizaremos igual\n",
    "# para la variable ventas\n",
    "\n",
    "# H0: las inversiones tiene distribución normal(miu, sigma**2)\n",
    "# H1: las inversiones no tiene distribución normal(miu, sigma**2)\n",
    "\n",
    "shapiro(DatosMd['Venta'])"
   ]
  },
  {
   "cell_type": "code",
   "execution_count": 30,
   "metadata": {},
   "outputs": [
    {
     "name": "stdout",
     "output_type": "stream",
     "text": [
      "Rechazamos la hipótesis nula: Las variable inversión no se distribuye de forma normal con un 0.94 de confianza\n"
     ]
    }
   ],
   "source": [
    "# Del test encontramos que el valor p tiene un valor de 0.0002427, y tenemos un alpha de 0.06. por ende Vp < α y se rechaza H0 a favor de la alterna\n",
    "\n",
    "valorP = shapiro(DatosMd['Venta'])[1]\n",
    "alpha = 0.06\n",
    "#Teniendo en cuenta que el valor de alpha es  0.06\n",
    "if valorP < alpha: \n",
    "    print(\"Rechazamos la hipótesis nula: Las variable inversión no se distribuye de forma normal con un 0.94 de confianza\")\n"
   ]
  },
  {
   "cell_type": "markdown",
   "metadata": {},
   "source": [
    "Dado que las dos variables, ventas e inversiones no se distribuyen de forma normal, podemos aplicar lo siguiente:\n",
    "\n",
    "Hipotesís Nula (H0) -> La media ventas es igual o menor a la inversión en marketing en mas de dos millones de pesos\n",
    "\n",
    "H0 -> μventas <= μmarketing + 2000000\n",
    "\n",
    "Hipotesís Alternativa (Ha) -> la media de ventas es mayor a la inversion en marketing mas dos millones de pesos\n",
    "\n",
    "Ha -> μventas > μmarketing + 2000000\n",
    "\n",
    "Ha -> μventas -μmarketing > 2000000\n",
    "\n",
    "Nivel de significancia es del 6% \n",
    "α=0.06"
   ]
  },
  {
   "cell_type": "code",
   "execution_count": 31,
   "metadata": {},
   "outputs": [
    {
     "name": "stdout",
     "output_type": "stream",
     "text": [
      "Media de Ventas: 60356063.80190001\n",
      "Media de Inversión: 4459370.27\n",
      "Desviación de Ventas: 8134994.291359559\n",
      "Desviación de Inversión: 1304053.6104073517\n"
     ]
    }
   ],
   "source": [
    "#Sacar media en las dos variables\n",
    "mediaVentas = DatosMd['Venta'].mean()\n",
    "mediaInversionMarketing = DatosMd['Inversión en marketing digital'].mean()\n",
    "#tamaño de los datos\n",
    "n = len(DatosMd)\n",
    "#Significancia\n",
    "alpha = 0.06\n",
    "valorHipotesis = 2000000 # 2 millones de pesos\n",
    "#Se calcula la desviación estandar\n",
    "desviacionVentas = DatosMd['Venta'].std()\n",
    "desviacionInversionMarketing = DatosMd['Inversión en marketing digital'].std()\n",
    "\n",
    "print(f'Media de Ventas: {mediaVentas}')\n",
    "print(f'Media de Inversión: {mediaInversionMarketing}')\n",
    "print(f'Desviación de Ventas: {desviacionVentas}')\n",
    "print(f'Desviación de Inversión: {desviacionInversionMarketing}')\n",
    "\n"
   ]
  },
  {
   "cell_type": "markdown",
   "metadata": {},
   "source": [
    "Calculamos el valor de Z dada por la formula teniendo en cuenta que la variable Ventas y la variable Inversión en Marketing Digital no se comportan como una distribución normal (no indicado en ejercicio) y sabiendo que n  >= 30, entonces podemos usar:\n",
    "\n",
    "Zc = (mediaVentas - mediaInversionMarketing) -valorHipotesis / raiz((desviacionVentas^2/n)+ (desviacionInversionMarketing^2/n))  "
   ]
  },
  {
   "cell_type": "code",
   "execution_count": 32,
   "metadata": {},
   "outputs": [
    {
     "data": {
      "text/plain": [
       "92.5146267723789"
      ]
     },
     "execution_count": 32,
     "metadata": {},
     "output_type": "execute_result"
    }
   ],
   "source": [
    "#Calcular Z\n",
    "\n",
    "z =((mediaVentas - mediaInversionMarketing) - valorHipotesis) / np.sqrt((desviacionVentas**2/n) + (desviacionInversionMarketing**2/n)) \n",
    "z"
   ]
  },
  {
   "cell_type": "markdown",
   "metadata": {},
   "source": [
    "Calculamos valor p"
   ]
  },
  {
   "cell_type": "code",
   "execution_count": 33,
   "metadata": {},
   "outputs": [
    {
     "data": {
      "text/plain": [
       "0.0"
      ]
     },
     "execution_count": 33,
     "metadata": {},
     "output_type": "execute_result"
    }
   ],
   "source": [
    "valorP = 1 - norm.cdf(z)\n",
    "valorP"
   ]
  },
  {
   "cell_type": "markdown",
   "metadata": {},
   "source": [
    "Dado los resultados podemos concluir lo siguiente"
   ]
  },
  {
   "cell_type": "code",
   "execution_count": 34,
   "metadata": {},
   "outputs": [
    {
     "name": "stdout",
     "output_type": "stream",
     "text": [
      "Rechazamos la hipótesis nula: las ventas medias son superiores a la inversión más 2,000,000 COP, con un nivel de confianza del 94%.\n"
     ]
    }
   ],
   "source": [
    "#Teniendo en cuenta que el valor de alpha es  0.06\n",
    "if valorP < alpha: \n",
    "    print(\"Rechazamos la hipótesis nula: las ventas medias son superiores a la inversión más 2,000,000 COP, con un nivel de confianza del 94%.\")\n",
    "else:\n",
    "    print(\"No rechazamos la hipótesis nula: no hay suficiente evidencia para afirmar que las ventas medias son superiores a la inversión más 2,000,000 COP, con un nivel de confianza del 94%.\")"
   ]
  },
  {
   "cell_type": "markdown",
   "metadata": {},
   "source": [
    "3. Analice si hay una relación lineal entre las variables inversión en Marketing y ventas, mediante una regresión lineal con todos sus repecivos componentes.\n",
    "\n",
    "Formula Utilizada:\n",
    "\n",
    "y = β0+β1 * x\n",
    "\n",
    "x= variable independiente\n",
    "\n",
    "y= dependiente ventas\n",
    "\n",
    "β0= intercepto\n",
    "\n",
    "β1=pendiente midiendo el cambio en y\n",
    "\n",
    "\n"
   ]
  },
  {
   "cell_type": "code",
   "execution_count": 35,
   "metadata": {},
   "outputs": [],
   "source": [
    "x= DatosMd['Inversión en marketing digital'] # Variable independiente\n",
    "y= DatosMd['Venta'] # variable dependiente\n",
    "\n",
    "x=sm.add_constant(x) # Añadimos la constante\n",
    "\n",
    "modelo_lineal=sm.OLS(y,x).fit() # Ajustamos el modelo\n",
    "resumen_modelo=modelo_lineal.summary() # Resumen del modelo\n",
    "#print(resumen_modelo)\n"
   ]
  },
  {
   "cell_type": "code",
   "execution_count": 36,
   "metadata": {},
   "outputs": [
    {
     "name": "stdout",
     "output_type": "stream",
     "text": [
      "Intercepción (β0): 39575016.104937404\n",
      "Pendiente (β1): 4.660085715861082\n",
      "Coeficiente de determinación (R²): 0.5580385437669773\n",
      "Valor p para la pendiente: 5.903083608001289e-37\n",
      "                            OLS Regression Results                            \n",
      "==============================================================================\n",
      "Dep. Variable:                  Venta   R-squared:                       0.558\n",
      "Model:                            OLS   Adj. R-squared:                  0.556\n",
      "Method:                 Least Squares   F-statistic:                     250.0\n",
      "Date:                Thu, 19 Sep 2024   Prob (F-statistic):           5.90e-37\n",
      "Time:                        20:58:23   Log-Likelihood:                -3384.0\n",
      "No. Observations:                 200   AIC:                             6772.\n",
      "Df Residuals:                     198   BIC:                             6779.\n",
      "Df Model:                           1                                         \n",
      "Covariance Type:            nonrobust                                         \n",
      "==================================================================================================\n",
      "                                     coef    std err          t      P>|t|      [0.025      0.975]\n",
      "--------------------------------------------------------------------------------------------------\n",
      "const                           3.958e+07   1.37e+06     28.906      0.000    3.69e+07    4.23e+07\n",
      "Inversión en marketing digital     4.6601      0.295     15.811      0.000       4.079       5.241\n",
      "==============================================================================\n",
      "Omnibus:                        5.656   Durbin-Watson:                   1.767\n",
      "Prob(Omnibus):                  0.059   Jarque-Bera (JB):                7.359\n",
      "Skew:                           0.162   Prob(JB):                       0.0252\n",
      "Kurtosis:                       3.882   Cond. No.                     1.66e+07\n",
      "==============================================================================\n",
      "\n",
      "Notes:\n",
      "[1] Standard Errors assume that the covariance matrix of the errors is correctly specified.\n",
      "[2] The condition number is large, 1.66e+07. This might indicate that there are\n",
      "strong multicollinearity or other numerical problems.\n"
     ]
    }
   ],
   "source": [
    "\n",
    "\n",
    "intercepcion=modelo_lineal.params.iloc[0] # Valor de la intercepción\n",
    "pendiente=modelo_lineal.params.iloc[1] # Valor de la pendiente\n",
    "coeficiente_determinacion=modelo_lineal.rsquared # Coeficiente de determinación\n",
    "valor_p=modelo_lineal.pvalues.iloc[1]  # Valor p para la pendiente\n",
    "\n",
    "\n",
    "\n",
    "print(f'Intercepción (β0): {intercepcion}')\n",
    "print(f'Pendiente (β1): {pendiente}')\n",
    "print(f'Coeficiente de determinación (R²): {coeficiente_determinacion}')\n",
    "print(f'Valor p para la pendiente: {valor_p}')\n",
    "print(resumen_modelo)\n",
    "\n",
    "\n"
   ]
  },
  {
   "cell_type": "code",
   "execution_count": 37,
   "metadata": {},
   "outputs": [
    {
     "data": {
      "image/png": "[encoded data removed]",
      "text/plain": [
       "<Figure size 800x600 with 1 Axes>"
      ]
     },
     "metadata": {},
     "output_type": "display_data"
    }
   ],
   "source": [
    "predicion_ventas= modelo_lineal.predict(x) # Predicción de ventas\n",
    "# Graficar la línea de regresión con los datos reales\n",
    "plt.figure(figsize=(8, 6))\n",
    "\n",
    "# Gráfico de dispersión de las ventas reales vs inversión\n",
    "plt.scatter(DatosMd['Inversión en marketing digital'], DatosMd['Venta'], color='green', label='Datos')\n",
    "\n",
    "# Graficar la línea de regresión\n",
    "plt.plot(DatosMd['Inversión en marketing digital'], predicion_ventas, color='red', label='Regresión Lineal')\n",
    "\n",
    "# Añadir etiquetas y título\n",
    "plt.title('Regresión Lineal: Inversión en Marketing vs Ventas')\n",
    "plt.xlabel('Inversión en Marketing Digital (COP)')\n",
    "plt.ylabel('Ventas (COP)')\n",
    "plt.legend()\n",
    "plt.grid(True)"
   ]
  },
  {
   "cell_type": "markdown",
   "metadata": {},
   "source": [
    "En conclusion podriamos indicar que existe una relación positiva y significativa entre la inversión en marketing digital y las ventas.La línea roja muestra cómo se predicen las ventas en función de la inversión en marketing (datos en verde), observando el valor de la pendiente nos confirma la realacion entre estas variables.\n",
    "\n",
    "Otro punto importante analizar es el coeficiente de determinacion que esta en un 55.8% de la variablidad en ventas puede explicarse por la inversion en marketing."
   ]
  }
 ],
 "metadata": {
  "kernelspec": {
   "display_name": "base",
   "language": "python",
   "name": "python3"
  },
  "language_info": {
   "codemirror_mode": {
    "name": "ipython",
    "version": 3
   },
   "file_extension": ".py",
   "mimetype": "text/x-python",
   "name": "python",
   "nbconvert_exporter": "python",
   "pygments_lexer": "ipython3",
   "version": "3.9.0"
  }
 },
 "nbformat": 4,
 "nbformat_minor": 2
}
